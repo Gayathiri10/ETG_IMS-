{
  "nbformat": 4,
  "nbformat_minor": 0,
  "metadata": {
    "colab": {
      "name": "IMS.ipynb",
      "provenance": [],
      "collapsed_sections": [],
      "authorship_tag": "ABX9TyPHiWfVOMQWKin5FmolqUps",
      "include_colab_link": true
    },
    "kernelspec": {
      "name": "python3",
      "display_name": "Python 3"
    },
    "language_info": {
      "name": "python"
    }
  },
  "cells": [
    {
      "cell_type": "markdown",
      "metadata": {
        "id": "view-in-github",
        "colab_type": "text"
      },
      "source": [
        "<a href=\"https://colab.research.google.com/github/Gayathiri10/ETG_IMS-/blob/main/IMS.ipynb\" target=\"_parent\"><img src=\"https://colab.research.google.com/assets/colab-badge.svg\" alt=\"Open In Colab\"/></a>"
      ]
    },
    {
      "cell_type": "code",
      "metadata": {
        "colab": {
          "base_uri": "https://localhost:8080/"
        },
        "id": "k42jm3uwvIMn",
        "outputId": "db9c82bb-a39d-4e4c-80d0-d44ad9e005e7"
      },
      "source": [
        "import json #to convert dictionary to string\n",
        "import time #to note down time of purchase\n",
        "item={1:{'Pid':123,'Pname':'Ink Pen','Price':50,'Quan':120,'Dept':'Stationery'},\n",
        "      2:{'Pid':213,'Pname':'Notebook','Price':65,'Quan':75,'Dept':'Stationery'},\n",
        "      3:{'Pid':324,'Pname':'Ink Bottle','Price':25,'Quan':50,'Dept':'Stationery'},\n",
        "      4:{'Pid':432,'Pname':'A4 Sheets','Price':1,'Quan':500,'Dept':'Stationery'},\n",
        "      5:{'Pid':654,'Pname':'Paint','Price':20,'Quan':40,'Dept':'Stationery'},\n",
        "      6:{'Pid':435,'Pname':'Cardboard','Price':30,'Quan':15,'Dept':'Stationery'},\n",
        "      7:{'Pid':543,'Pname':'Tape','Price':5,'Quan':25,'Dept':'Stationery'},\n",
        "      8:{'Pid':511,'Pname':'Scissor','Price':25,'Quan':15,'Dept':'Stationery'},\n",
        "      9:{'Pid':521,'Pname':'Stencils','Price':15,'Quan':30,'Dept':'Stationery'},\n",
        "      10:{'Pid':451,'Pname':'Pencil','Price':2,'Quan':60,'Dept':'Stationery'},\n",
        "      11:{'Pid':456,'Pname':'Cake','Price':30,'Quan':100,'Dept':'Food'},\n",
        "      12:{'Pid':546,'Pname':'Chocolates','Price':15,'Quan':75,'Dept':'Food'},\n",
        "      13:{'Pid':567,'Pname':'Noodles','Price':35,'Quan':50,'Dept':'Food'},\n",
        "      14:{'Pid':548,'Pname':'Chips','Price':10,'Quan':45,'Dept':'Food'},\n",
        "      15:{'Pid':555,'Pname':'Cookies','Price':15,'Quan':25,'Dept':'Food'},\n",
        "      16:{'Pid':565,'Pname':'Cotton candy','Price':5,'Quan':15,'Dept':'Food'},\n",
        "      17:{'Pid':540,'Pname':'Ice cream','Price':25,'Quan':50,'Dept':'Food'},\n",
        "      18:{'Pid':657,'Pname':'Milkshake','Price':25,'Quan':50,'Dept':'Food'},\n",
        "      19:{'Pid':655,'Pname':'Honey','Price':100,'Quan':15,'Dept':'Food'},\n",
        "      20:{'Pid':643,'Pname':'Coffee','Price':10,'Quan':25,'Dept':'Food'},\n",
        "      21:{'Pid':700,'Pname':'Cell','Price':20,'Quan':35,'Dept':'Electronics'},\n",
        "      22:{'Pid':701,'Pname':'Adapter','Price':150,'Quan':15,'Dept':'Electronics'},\n",
        "      23:{'Pid':702,'Pname':'Speakers','Price':100,'Quan':15,'Dept':'Electronics'},\n",
        "      24:{'Pid':703,'Pname':'Pendrive','Price':500,'Quan':15,'Dept':'Electronics'},\n",
        "      25:{'Pid':722,'Pname':'Torch','Price':150,'Quan':10,'Dept':'Electronics'},\n",
        "      26:{'Pid':734,'Pname':'Headphones','Price':225,'Quan':15,'Dept':'Electronics'},\n",
        "      27:{'Pid':777,'Pname':'Mouse','Price':200,'Quan':15,'Dept':'Electronics'},\n",
        "      28:{'Pid':788,'Pname':'Keyboard','Price':200,'Quan':15,'Dept':'Electronics'},\n",
        "      29:{'Pid':733,'Pname':'USB cables','Price':55,'Quan':10,'Dept':'Electronics'},\n",
        "      30:{'Pid':785,'Pname':'Powerbank','Price':999,'Quan':25,'Dept':'Electronics'},\n",
        "}\n",
        "amount=0\n",
        "purchase=[] #to keep track of items bought\n",
        "n=[] #to keep track of item and quantity to reduce it from original data\n",
        "#while loop executes until customer wishes to shop\n",
        "while(int(input(\"Enter your choice:\\n1.Shop\\n0.Exit\"))!=0):\n",
        "      print(\"Choose from the below product id:\")\n",
        "      for i in range(1,31):\n",
        "        print(item[i]['Pid'],item[i]['Pname'],sep=\"=\")\n",
        "      p=int(input(\"enter item\"))\n",
        "      q=int(input(\"quantity\"))\n",
        "      for i in range(1,31):\n",
        "        if(item[i]['Pid']==p):\n",
        "           purchase.append(item[i]['Pname'])\n",
        "           purchase.append(q)\n",
        "           n.append(i)\n",
        "           n.append(q)\n",
        "           amount+=(item[i]['Price']*q)\n",
        "#sales file keeps track of items purchased and time of purchase\n",
        "fd=open(\"sales.txt\",'w')\n",
        "for i in range(len(purchase)):\n",
        "  if(i%2==0):\n",
        "    j=str(purchase[i])+':'\n",
        "    j+=str(purchase[i+1])+\" \"\n",
        "    fd.write(j)\n",
        "    fd.write(time.ctime())\n",
        "fd.close()\n",
        "#bill generated\n",
        "print(\"Items Purchased:\")\n",
        "print(\"******************\")\n",
        "for i in range(len(purchase)):\n",
        "  if(i%2==0):\n",
        "    print(purchase[i],purchase[i+1],sep=\":\")\n",
        "print(\"*******************\")\n",
        "print(\"Amount payable=\",amount)\n",
        "#to minimise quantity of products purchased from original record\n",
        "for i in range(len(n)):\n",
        "  if(i%2==0):\n",
        "    item[n[i]]['Quan']-=n[i+1]\n",
        "js=json.dumps(item)\n",
        "fd=open(\"item.json\",'w')\n",
        "fd.write(js)\n",
        "fd.close()"
      ],
      "execution_count": 1,
      "outputs": [
        {
          "output_type": "stream",
          "name": "stdout",
          "text": [
            "Enter your choice:\n",
            "1.Shop\n",
            "0.Exit1\n",
            "Choose from the below product id:\n",
            "123=Ink Pen\n",
            "213=Notebook\n",
            "324=Ink Bottle\n",
            "432=A4 Sheets\n",
            "654=Paint\n",
            "435=Cardboard\n",
            "543=Tape\n",
            "511=Scissor\n",
            "521=Stencils\n",
            "451=Pencil\n",
            "456=Cake\n",
            "546=Chocolates\n",
            "567=Noodles\n",
            "548=Chips\n",
            "555=Cookies\n",
            "565=Cotton candy\n",
            "540=Ice cream\n",
            "657=Milkshake\n",
            "655=Honey\n",
            "643=Coffee\n",
            "700=Cell\n",
            "701=Adapter\n",
            "702=Speakers\n",
            "703=Pendrive\n",
            "722=Torch\n",
            "734=Headphones\n",
            "777=Mouse\n",
            "788=Keyboard\n",
            "733=USB cables\n",
            "785=Powerbank\n",
            "enter item511\n",
            "quantity2\n",
            "Enter your choice:\n",
            "1.Shop\n",
            "0.Exit0\n",
            "Items Purchased:\n",
            "******************\n",
            "Scissor:2\n",
            "*******************\n",
            "Amount payable= 50\n"
          ]
        }
      ]
    },
    {
      "cell_type": "code",
      "metadata": {
        "id": "rLNK5A525m0d"
      },
      "source": [
        "#item file with updated quantity could be verified\n",
        "fd=open(\"item.json\",'r')\n",
        "t=fd.read()\n",
        "fd.close()"
      ],
      "execution_count": 2,
      "outputs": []
    },
    {
      "cell_type": "code",
      "metadata": {
        "colab": {
          "base_uri": "https://localhost:8080/"
        },
        "id": "e-OM9sU75tlk",
        "outputId": "f1d37c3d-bef2-4d9c-a62e-038157cdf6da"
      },
      "source": [
        "t.split(\"},\")"
      ],
      "execution_count": 3,
      "outputs": [
        {
          "output_type": "execute_result",
          "data": {
            "text/plain": [
              "['{\"1\": {\"Pid\": 123, \"Pname\": \"Ink Pen\", \"Price\": 50, \"Quan\": 120, \"Dept\": \"Stationery\"',\n",
              " ' \"2\": {\"Pid\": 213, \"Pname\": \"Notebook\", \"Price\": 65, \"Quan\": 75, \"Dept\": \"Stationery\"',\n",
              " ' \"3\": {\"Pid\": 324, \"Pname\": \"Ink Bottle\", \"Price\": 25, \"Quan\": 50, \"Dept\": \"Stationery\"',\n",
              " ' \"4\": {\"Pid\": 432, \"Pname\": \"A4 Sheets\", \"Price\": 1, \"Quan\": 500, \"Dept\": \"Stationery\"',\n",
              " ' \"5\": {\"Pid\": 654, \"Pname\": \"Paint\", \"Price\": 20, \"Quan\": 40, \"Dept\": \"Stationery\"',\n",
              " ' \"6\": {\"Pid\": 435, \"Pname\": \"Cardboard\", \"Price\": 30, \"Quan\": 15, \"Dept\": \"Stationery\"',\n",
              " ' \"7\": {\"Pid\": 543, \"Pname\": \"Tape\", \"Price\": 5, \"Quan\": 25, \"Dept\": \"Stationery\"',\n",
              " ' \"8\": {\"Pid\": 511, \"Pname\": \"Scissor\", \"Price\": 25, \"Quan\": 13, \"Dept\": \"Stationery\"',\n",
              " ' \"9\": {\"Pid\": 521, \"Pname\": \"Stencils\", \"Price\": 15, \"Quan\": 30, \"Dept\": \"Stationery\"',\n",
              " ' \"10\": {\"Pid\": 451, \"Pname\": \"Pencil\", \"Price\": 2, \"Quan\": 60, \"Dept\": \"Stationery\"',\n",
              " ' \"11\": {\"Pid\": 456, \"Pname\": \"Cake\", \"Price\": 30, \"Quan\": 100, \"Dept\": \"Food\"',\n",
              " ' \"12\": {\"Pid\": 546, \"Pname\": \"Chocolates\", \"Price\": 15, \"Quan\": 75, \"Dept\": \"Food\"',\n",
              " ' \"13\": {\"Pid\": 567, \"Pname\": \"Noodles\", \"Price\": 35, \"Quan\": 50, \"Dept\": \"Food\"',\n",
              " ' \"14\": {\"Pid\": 548, \"Pname\": \"Chips\", \"Price\": 10, \"Quan\": 45, \"Dept\": \"Food\"',\n",
              " ' \"15\": {\"Pid\": 555, \"Pname\": \"Cookies\", \"Price\": 15, \"Quan\": 25, \"Dept\": \"Food\"',\n",
              " ' \"16\": {\"Pid\": 565, \"Pname\": \"Cotton candy\", \"Price\": 5, \"Quan\": 15, \"Dept\": \"Food\"',\n",
              " ' \"17\": {\"Pid\": 540, \"Pname\": \"Ice cream\", \"Price\": 25, \"Quan\": 50, \"Dept\": \"Food\"',\n",
              " ' \"18\": {\"Pid\": 657, \"Pname\": \"Milkshake\", \"Price\": 25, \"Quan\": 50, \"Dept\": \"Food\"',\n",
              " ' \"19\": {\"Pid\": 655, \"Pname\": \"Honey\", \"Price\": 100, \"Quan\": 15, \"Dept\": \"Food\"',\n",
              " ' \"20\": {\"Pid\": 643, \"Pname\": \"Coffee\", \"Price\": 10, \"Quan\": 25, \"Dept\": \"Food\"',\n",
              " ' \"21\": {\"Pid\": 700, \"Pname\": \"Cell\", \"Price\": 20, \"Quan\": 35, \"Dept\": \"Electronics\"',\n",
              " ' \"22\": {\"Pid\": 701, \"Pname\": \"Adapter\", \"Price\": 150, \"Quan\": 15, \"Dept\": \"Electronics\"',\n",
              " ' \"23\": {\"Pid\": 702, \"Pname\": \"Speakers\", \"Price\": 100, \"Quan\": 15, \"Dept\": \"Electronics\"',\n",
              " ' \"24\": {\"Pid\": 703, \"Pname\": \"Pendrive\", \"Price\": 500, \"Quan\": 15, \"Dept\": \"Electronics\"',\n",
              " ' \"25\": {\"Pid\": 722, \"Pname\": \"Torch\", \"Price\": 150, \"Quan\": 10, \"Dept\": \"Electronics\"',\n",
              " ' \"26\": {\"Pid\": 734, \"Pname\": \"Headphones\", \"Price\": 225, \"Quan\": 15, \"Dept\": \"Electronics\"',\n",
              " ' \"27\": {\"Pid\": 777, \"Pname\": \"Mouse\", \"Price\": 200, \"Quan\": 15, \"Dept\": \"Electronics\"',\n",
              " ' \"28\": {\"Pid\": 788, \"Pname\": \"Keyboard\", \"Price\": 200, \"Quan\": 15, \"Dept\": \"Electronics\"',\n",
              " ' \"29\": {\"Pid\": 733, \"Pname\": \"USB cables\", \"Price\": 55, \"Quan\": 10, \"Dept\": \"Electronics\"',\n",
              " ' \"30\": {\"Pid\": 785, \"Pname\": \"Powerbank\", \"Price\": 999, \"Quan\": 25, \"Dept\": \"Electronics\"}}']"
            ]
          },
          "metadata": {},
          "execution_count": 3
        }
      ]
    },
    {
      "cell_type": "code",
      "metadata": {
        "id": "WZzHXLhd53sX"
      },
      "source": [
        "#sales file could be viewed and verified\n",
        "fd=open(\"sales.txt\",'r')\n",
        "t=fd.read()\n",
        "fd.close()"
      ],
      "execution_count": 4,
      "outputs": []
    },
    {
      "cell_type": "code",
      "metadata": {
        "colab": {
          "base_uri": "https://localhost:8080/",
          "height": 35
        },
        "id": "Ro8y_xuE57fe",
        "outputId": "04d52026-1d96-4963-b4c5-77264789b49b"
      },
      "source": [
        "t"
      ],
      "execution_count": 5,
      "outputs": [
        {
          "output_type": "execute_result",
          "data": {
            "application/vnd.google.colaboratory.intrinsic+json": {
              "type": "string"
            },
            "text/plain": [
              "'Scissor:2 Wed Sep  1 15:07:03 2021'"
            ]
          },
          "metadata": {},
          "execution_count": 5
        }
      ]
    }
  ]
}